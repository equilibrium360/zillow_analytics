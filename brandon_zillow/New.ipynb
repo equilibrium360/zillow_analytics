{
 "cells": [
  {
   "cell_type": "code",
   "execution_count": 1,
   "metadata": {},
   "outputs": [],
   "source": [
    "import matplotlib.pyplot as plt\n",
    "import pandas as pd\n",
    "import numpy as np\n",
    "from itertools import cycle, islice\n",
    "import csv \n",
    "csvfile = \"Zsample10.csv\"\n",
    "zillow_df = pd.read_csv(csvfile)"
   ]
  },
  {
   "cell_type": "code",
   "execution_count": 2,
   "metadata": {},
   "outputs": [
    {
     "data": {
      "text/html": [
       "<div>\n",
       "<style scoped>\n",
       "    .dataframe tbody tr th:only-of-type {\n",
       "        vertical-align: middle;\n",
       "    }\n",
       "\n",
       "    .dataframe tbody tr th {\n",
       "        vertical-align: top;\n",
       "    }\n",
       "\n",
       "    .dataframe thead th {\n",
       "        text-align: right;\n",
       "    }\n",
       "</style>\n",
       "<table border=\"1\" class=\"dataframe\">\n",
       "  <thead>\n",
       "    <tr style=\"text-align: right;\">\n",
       "      <th></th>\n",
       "      <th>parcelid</th>\n",
       "      <th>ac_type</th>\n",
       "      <th>bath</th>\n",
       "      <th>beds</th>\n",
       "      <th>bldg_qual</th>\n",
       "      <th>calc_bath</th>\n",
       "      <th>sqft</th>\n",
       "      <th>calc_sqft</th>\n",
       "      <th>fips</th>\n",
       "      <th>garage</th>\n",
       "      <th>...</th>\n",
       "      <th>regionzip</th>\n",
       "      <th>rooms</th>\n",
       "      <th>units</th>\n",
       "      <th>yearbuilt</th>\n",
       "      <th>tax_structure</th>\n",
       "      <th>tax_total</th>\n",
       "      <th>assessment_yr</th>\n",
       "      <th>tax_land</th>\n",
       "      <th>tax_bill_ayr</th>\n",
       "      <th>tractblk</th>\n",
       "    </tr>\n",
       "  </thead>\n",
       "  <tbody>\n",
       "    <tr>\n",
       "      <th>0</th>\n",
       "      <td>14104290</td>\n",
       "      <td>0</td>\n",
       "      <td>1.5</td>\n",
       "      <td>2</td>\n",
       "      <td>0</td>\n",
       "      <td>1.5</td>\n",
       "      <td>0</td>\n",
       "      <td>1008</td>\n",
       "      <td>6059</td>\n",
       "      <td>2</td>\n",
       "      <td>...</td>\n",
       "      <td>97047</td>\n",
       "      <td>5</td>\n",
       "      <td>0</td>\n",
       "      <td>1965</td>\n",
       "      <td>48367</td>\n",
       "      <td>321014</td>\n",
       "      <td>2016</td>\n",
       "      <td>272647</td>\n",
       "      <td>4125.88</td>\n",
       "      <td>6.059090e+13</td>\n",
       "    </tr>\n",
       "    <tr>\n",
       "      <th>1</th>\n",
       "      <td>12170245</td>\n",
       "      <td>0</td>\n",
       "      <td>1.0</td>\n",
       "      <td>2</td>\n",
       "      <td>6</td>\n",
       "      <td>1.0</td>\n",
       "      <td>0</td>\n",
       "      <td>1500</td>\n",
       "      <td>6037</td>\n",
       "      <td>0</td>\n",
       "      <td>...</td>\n",
       "      <td>96265</td>\n",
       "      <td>0</td>\n",
       "      <td>1</td>\n",
       "      <td>1948</td>\n",
       "      <td>134826</td>\n",
       "      <td>674131</td>\n",
       "      <td>2016</td>\n",
       "      <td>539305</td>\n",
       "      <td>8003.98</td>\n",
       "      <td>6.037460e+13</td>\n",
       "    </tr>\n",
       "    <tr>\n",
       "      <th>2</th>\n",
       "      <td>17224583</td>\n",
       "      <td>0</td>\n",
       "      <td>3.5</td>\n",
       "      <td>4</td>\n",
       "      <td>0</td>\n",
       "      <td>3.5</td>\n",
       "      <td>1356</td>\n",
       "      <td>3071</td>\n",
       "      <td>6111</td>\n",
       "      <td>2</td>\n",
       "      <td>...</td>\n",
       "      <td>96385</td>\n",
       "      <td>11</td>\n",
       "      <td>0</td>\n",
       "      <td>1977</td>\n",
       "      <td>450356</td>\n",
       "      <td>900712</td>\n",
       "      <td>2016</td>\n",
       "      <td>450356</td>\n",
       "      <td>9497.78</td>\n",
       "      <td>6.111010e+13</td>\n",
       "    </tr>\n",
       "    <tr>\n",
       "      <th>3</th>\n",
       "      <td>10920939</td>\n",
       "      <td>0</td>\n",
       "      <td>1.0</td>\n",
       "      <td>3</td>\n",
       "      <td>4</td>\n",
       "      <td>1.0</td>\n",
       "      <td>0</td>\n",
       "      <td>1134</td>\n",
       "      <td>6037</td>\n",
       "      <td>0</td>\n",
       "      <td>...</td>\n",
       "      <td>96375</td>\n",
       "      <td>0</td>\n",
       "      <td>1</td>\n",
       "      <td>1950</td>\n",
       "      <td>116449</td>\n",
       "      <td>487319</td>\n",
       "      <td>2016</td>\n",
       "      <td>370870</td>\n",
       "      <td>5853.33</td>\n",
       "      <td>6.037100e+13</td>\n",
       "    </tr>\n",
       "    <tr>\n",
       "      <th>4</th>\n",
       "      <td>14455839</td>\n",
       "      <td>13</td>\n",
       "      <td>2.0</td>\n",
       "      <td>3</td>\n",
       "      <td>0</td>\n",
       "      <td>2.0</td>\n",
       "      <td>0</td>\n",
       "      <td>1410</td>\n",
       "      <td>6059</td>\n",
       "      <td>2</td>\n",
       "      <td>...</td>\n",
       "      <td>96996</td>\n",
       "      <td>6</td>\n",
       "      <td>0</td>\n",
       "      <td>1970</td>\n",
       "      <td>47884</td>\n",
       "      <td>86445</td>\n",
       "      <td>2016</td>\n",
       "      <td>38561</td>\n",
       "      <td>893.48</td>\n",
       "      <td>6.059030e+13</td>\n",
       "    </tr>\n",
       "  </tbody>\n",
       "</table>\n",
       "<p>5 rows × 28 columns</p>\n",
       "</div>"
      ],
      "text/plain": [
       "   parcelid  ac_type  bath  beds  bldg_qual  calc_bath  sqft  calc_sqft  fips  \\\n",
       "0  14104290        0   1.5     2          0        1.5     0       1008  6059   \n",
       "1  12170245        0   1.0     2          6        1.0     0       1500  6037   \n",
       "2  17224583        0   3.5     4          0        3.5  1356       3071  6111   \n",
       "3  10920939        0   1.0     3          4        1.0     0       1134  6037   \n",
       "4  14455839       13   2.0     3          0        2.0     0       1410  6059   \n",
       "\n",
       "   garage      ...       regionzip  rooms  units  yearbuilt  tax_structure  \\\n",
       "0       2      ...           97047      5      0       1965          48367   \n",
       "1       0      ...           96265      0      1       1948         134826   \n",
       "2       2      ...           96385     11      0       1977         450356   \n",
       "3       0      ...           96375      0      1       1950         116449   \n",
       "4       2      ...           96996      6      0       1970          47884   \n",
       "\n",
       "   tax_total  assessment_yr  tax_land  tax_bill_ayr      tractblk  \n",
       "0     321014           2016    272647       4125.88  6.059090e+13  \n",
       "1     674131           2016    539305       8003.98  6.037460e+13  \n",
       "2     900712           2016    450356       9497.78  6.111010e+13  \n",
       "3     487319           2016    370870       5853.33  6.037100e+13  \n",
       "4      86445           2016     38561        893.48  6.059030e+13  \n",
       "\n",
       "[5 rows x 28 columns]"
      ]
     },
     "execution_count": 2,
     "metadata": {},
     "output_type": "execute_result"
    }
   ],
   "source": [
    "zillow_df.head()"
   ]
  },
  {
   "cell_type": "code",
   "execution_count": 3,
   "metadata": {},
   "outputs": [],
   "source": [
    "countyLA = zillow_df.loc[zillow_df[\"fips\"] == 6037]\n",
    "countyOC = zillow_df.loc[zillow_df[\"fips\"] == 6059]\n",
    "countyVC = zillow_df.loc[zillow_df[\"fips\"] == 6111]"
   ]
  },
  {
   "cell_type": "code",
   "execution_count": 4,
   "metadata": {},
   "outputs": [],
   "source": [
    "counties = zillow_df.set_index([\"fips\"])"
   ]
  },
  {
   "cell_type": "code",
   "execution_count": 5,
   "metadata": {},
   "outputs": [],
   "source": [
    "countiesRenamed = counties.rename({6037: \"Los Angeles\", 6059: \"Orange County\", 6111: \"Ventura County\"})"
   ]
  },
  {
   "cell_type": "code",
   "execution_count": 6,
   "metadata": {},
   "outputs": [],
   "source": [
    "#countyLAData = countyLA.rename({6037: \"Los Angeles\"})\n",
    "losAngelesData = countyLA.set_index([\"fips\"])\n",
    "losAngelesDataRenamed = losAngelesData.rename({6037: \"Los Angeles\"})"
   ]
  },
  {
   "cell_type": "code",
   "execution_count": 7,
   "metadata": {},
   "outputs": [],
   "source": [
    "orangeCountyData = countyOC.set_index([\"fips\"])\n",
    "orangeCountyDataRenamed = orangeCountyData.rename({6059: \"Orange County\"})"
   ]
  },
  {
   "cell_type": "code",
   "execution_count": 8,
   "metadata": {},
   "outputs": [],
   "source": [
    "venturaCountyData = countyVC.set_index([\"fips\"])\n",
    "venturaCountyDataRenamed = venturaCountyData.rename({6111: \"Ventura County\"})"
   ]
  },
  {
   "cell_type": "code",
   "execution_count": 9,
   "metadata": {},
   "outputs": [],
   "source": [
    "averageSquareFeetLA = losAngelesDataRenamed.groupby(\"fips\")[\"calc_sqft\"].mean()"
   ]
  },
  {
   "cell_type": "code",
   "execution_count": 10,
   "metadata": {},
   "outputs": [],
   "source": [
    "averageSquareFeetOC = orangeCountyDataRenamed.groupby(\"fips\")[\"calc_sqft\"].mean()"
   ]
  },
  {
   "cell_type": "code",
   "execution_count": 11,
   "metadata": {},
   "outputs": [],
   "source": [
    "averageSquareFeetVC = venturaCountyDataRenamed.groupby(\"fips\")[\"calc_sqft\"].mean()"
   ]
  },
  {
   "cell_type": "code",
   "execution_count": 12,
   "metadata": {},
   "outputs": [],
   "source": [
    "avgLA = countiesRenamed.groupby(\"fips\")[\"calc_sqft\"].mean()"
   ]
  },
  {
   "cell_type": "markdown",
   "metadata": {},
   "source": [
    "# Average Square Feet"
   ]
  },
  {
   "cell_type": "code",
   "execution_count": 13,
   "metadata": {},
   "outputs": [
    {
     "data": {
      "text/html": [
       "<div>\n",
       "<style scoped>\n",
       "    .dataframe tbody tr th:only-of-type {\n",
       "        vertical-align: middle;\n",
       "    }\n",
       "\n",
       "    .dataframe tbody tr th {\n",
       "        vertical-align: top;\n",
       "    }\n",
       "\n",
       "    .dataframe thead th {\n",
       "        text-align: right;\n",
       "    }\n",
       "</style>\n",
       "<table border=\"1\" class=\"dataframe\">\n",
       "  <thead>\n",
       "    <tr style=\"text-align: right;\">\n",
       "      <th></th>\n",
       "      <th>Average Sq Ft Per County</th>\n",
       "    </tr>\n",
       "    <tr>\n",
       "      <th>fips</th>\n",
       "      <th></th>\n",
       "    </tr>\n",
       "  </thead>\n",
       "  <tbody>\n",
       "    <tr>\n",
       "      <th>Los Angeles</th>\n",
       "      <td>1785.172927</td>\n",
       "    </tr>\n",
       "    <tr>\n",
       "      <th>Orange County</th>\n",
       "      <td>1851.068749</td>\n",
       "    </tr>\n",
       "    <tr>\n",
       "      <th>Ventura County</th>\n",
       "      <td>1829.452139</td>\n",
       "    </tr>\n",
       "  </tbody>\n",
       "</table>\n",
       "</div>"
      ],
      "text/plain": [
       "                Average Sq Ft Per County\n",
       "fips                                    \n",
       "Los Angeles                  1785.172927\n",
       "Orange County                1851.068749\n",
       "Ventura County               1829.452139"
      ]
     },
     "execution_count": 13,
     "metadata": {},
     "output_type": "execute_result"
    }
   ],
   "source": [
    "squareFeet_df = pd.DataFrame({\"Average Sq Ft Per County\": avgLA})\n",
    "newSquareFeet_df = squareFeet_df[(squareFeet_df.T !=0).any()]\n",
    "newSquareFeet_df"
   ]
  },
  {
   "cell_type": "code",
   "execution_count": 14,
   "metadata": {},
   "outputs": [
    {
     "data": {
      "text/plain": [
       "<matplotlib.axes._subplots.AxesSubplot at 0x10a43fe80>"
      ]
     },
     "execution_count": 14,
     "metadata": {},
     "output_type": "execute_result"
    },
    {
     "data": {
      "image/png": "[encoded data removed]",
      "text/plain": [
       "<Figure size 432x288 with 1 Axes>"
      ]
     },
     "metadata": {},
     "output_type": "display_data"
    }
   ],
   "source": [
    "squareFootChart = newSquareFeet_df.plot(kind='bar', yticks=range(0,2018,100), legend=False)\n",
    "squareFootChart.set_ylabel(\"square feet\")\n",
    "squareFootChart"
   ]
  },
  {
   "cell_type": "code",
   "execution_count": 15,
   "metadata": {},
   "outputs": [],
   "source": [
    "losAngelesBeds = losAngelesDataRenamed[\"beds\"].mean()"
   ]
  },
  {
   "cell_type": "code",
   "execution_count": 16,
   "metadata": {},
   "outputs": [],
   "source": [
    "orangeCountyBeds = orangeCountyDataRenamed[\"beds\"].mean()"
   ]
  },
  {
   "cell_type": "code",
   "execution_count": 17,
   "metadata": {},
   "outputs": [],
   "source": [
    "venturaCountyBeds = venturaCountyDataRenamed[\"beds\"].mean()"
   ]
  },
  {
   "cell_type": "code",
   "execution_count": 18,
   "metadata": {},
   "outputs": [],
   "source": [
    "avgBedLA = countiesRenamed.groupby(\"fips\")[\"beds\"].mean()"
   ]
  },
  {
   "cell_type": "code",
   "execution_count": 19,
   "metadata": {},
   "outputs": [
    {
     "data": {
      "text/html": [
       "<div>\n",
       "<style scoped>\n",
       "    .dataframe tbody tr th:only-of-type {\n",
       "        vertical-align: middle;\n",
       "    }\n",
       "\n",
       "    .dataframe tbody tr th {\n",
       "        vertical-align: top;\n",
       "    }\n",
       "\n",
       "    .dataframe thead th {\n",
       "        text-align: right;\n",
       "    }\n",
       "</style>\n",
       "<table border=\"1\" class=\"dataframe\">\n",
       "  <thead>\n",
       "    <tr style=\"text-align: right;\">\n",
       "      <th></th>\n",
       "      <th>Average Number of Bedrooms per County</th>\n",
       "    </tr>\n",
       "    <tr>\n",
       "      <th>fips</th>\n",
       "      <th></th>\n",
       "    </tr>\n",
       "  </thead>\n",
       "  <tbody>\n",
       "    <tr>\n",
       "      <th>Los Angeles</th>\n",
       "      <td>3.105097</td>\n",
       "    </tr>\n",
       "    <tr>\n",
       "      <th>Orange County</th>\n",
       "      <td>3.064674</td>\n",
       "    </tr>\n",
       "    <tr>\n",
       "      <th>Ventura County</th>\n",
       "      <td>3.090588</td>\n",
       "    </tr>\n",
       "  </tbody>\n",
       "</table>\n",
       "</div>"
      ],
      "text/plain": [
       "                Average Number of Bedrooms per County\n",
       "fips                                                 \n",
       "Los Angeles                                  3.105097\n",
       "Orange County                                3.064674\n",
       "Ventura County                               3.090588"
      ]
     },
     "execution_count": 19,
     "metadata": {},
     "output_type": "execute_result"
    }
   ],
   "source": [
    "bedrooms_df = pd.DataFrame({\"Average Number of Bedrooms per County\": avgBedLA})\n",
    "newBedrooms_df = bedrooms_df[(bedrooms_df.T !=0).any()]\n",
    "newBedrooms_df"
   ]
  },
  {
   "cell_type": "markdown",
   "metadata": {},
   "source": [
    "# Average Number of Bedrooms in Each County"
   ]
  },
  {
   "cell_type": "code",
   "execution_count": 20,
   "metadata": {},
   "outputs": [
    {
     "data": {
      "text/plain": [
       "Text(0,0.5,'Number of Beds')"
      ]
     },
     "execution_count": 20,
     "metadata": {},
     "output_type": "execute_result"
    },
    {
     "data": {
      "image/png": "[encoded data removed]",
      "text/plain": [
       "<Figure size 432x288 with 1 Axes>"
      ]
     },
     "metadata": {},
     "output_type": "display_data"
    }
   ],
   "source": [
    "#colors = list(islice(cycle([\"r\", 'r', \"y\"]), None, len(newBedrooms_df)))\n",
    "\n",
    "bedroomChart = newBedrooms_df.plot(kind='bar', legend=False, color=tuple([\"g\",\"b\",\"r\"]))\n",
    "bedroomChart.set_ylabel(\"Number of Beds\")"
   ]
  },
  {
   "cell_type": "code",
   "execution_count": 36,
   "metadata": {},
   "outputs": [],
   "source": [
    "priceLA = losAngelesDataRenamed.groupby(\"fips\")[\"tax_total\"].sum()\n",
    "sumOfSqFtLA = losAngelesDataRenamed.groupby(\"fips\")[\"calc_sqft\"].sum()\n",
    "pricePerFtLA = priceLA / sumOfSqFtLA"
   ]
  },
  {
   "cell_type": "code",
   "execution_count": 46,
   "metadata": {},
   "outputs": [],
   "source": [
    "priceOC = orangeCountyDataRenamed.groupby(\"fips\")[\"tax_total\"].sum()\n",
    "sumOfSqFtOC = orangeCountyDataRenamed.groupby(\"fips\")[\"calc_sqft\"].sum()\n",
    "pricePerFtOC = priceOC / sumOfSqFtOC"
   ]
  },
  {
   "cell_type": "code",
   "execution_count": 51,
   "metadata": {},
   "outputs": [],
   "source": [
    "priceVC = venturaCountyDataRenamed.groupby(\"fips\")[\"tax_total\"].sum()\n",
    "sumOfSqFtVC = venturaCountyDataRenamed.groupby(\"fips\")[\"calc_sqft\"].sum()\n",
    "pricePerFtVC = priceVC / sumOfSqFtVC"
   ]
  },
  {
   "cell_type": "code",
   "execution_count": 68,
   "metadata": {},
   "outputs": [],
   "source": []
  },
  {
   "cell_type": "code",
   "execution_count": 67,
   "metadata": {},
   "outputs": [
    {
     "data": {
      "text/html": [
       "<div>\n",
       "<style scoped>\n",
       "    .dataframe tbody tr th:only-of-type {\n",
       "        vertical-align: middle;\n",
       "    }\n",
       "\n",
       "    .dataframe tbody tr th {\n",
       "        vertical-align: top;\n",
       "    }\n",
       "\n",
       "    .dataframe thead th {\n",
       "        text-align: right;\n",
       "    }\n",
       "</style>\n",
       "<table border=\"1\" class=\"dataframe\">\n",
       "  <thead>\n",
       "    <tr style=\"text-align: right;\">\n",
       "      <th></th>\n",
       "      <th>LA Square Foot Price</th>\n",
       "    </tr>\n",
       "    <tr>\n",
       "      <th>fips</th>\n",
       "      <th></th>\n",
       "    </tr>\n",
       "  </thead>\n",
       "  <tbody>\n",
       "    <tr>\n",
       "      <th>Los Angeles</th>\n",
       "      <td>238.374435</td>\n",
       "    </tr>\n",
       "  </tbody>\n",
       "</table>\n",
       "</div>"
      ],
      "text/plain": [
       "             LA Square Foot Price\n",
       "fips                             \n",
       "Los Angeles            238.374435"
      ]
     },
     "execution_count": 67,
     "metadata": {},
     "output_type": "execute_result"
    }
   ],
   "source": [
    "price_df = pd.DataFrame({\"LA Square Foot Price\": pricePerFtLA})\n",
    "newPrice_df = price_df[(price_df.T !=0).any()]\n",
    "newPrice_df"
   ]
  },
  {
   "cell_type": "code",
   "execution_count": null,
   "metadata": {},
   "outputs": [],
   "source": []
  }
 ],
 "metadata": {
  "kernelspec": {
   "display_name": "Python 3",
   "language": "python",
   "name": "python3"
  },
  "language_info": {
   "codemirror_mode": {
    "name": "ipython",
    "version": 3
   },
   "file_extension": ".py",
   "mimetype": "text/x-python",
   "name": "python",
   "nbconvert_exporter": "python",
   "pygments_lexer": "ipython3",
   "version": "3.6.5"
  }
 },
 "nbformat": 4,
 "nbformat_minor": 2
}
